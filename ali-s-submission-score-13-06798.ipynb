{
 "cells": [
  {
   "cell_type": "markdown",
   "id": "c7c4caa6",
   "metadata": {
    "papermill": {
     "duration": 0.008835,
     "end_time": "2025-04-17T01:01:36.898716",
     "exception": false,
     "start_time": "2025-04-17T01:01:36.889881",
     "status": "completed"
    },
    "tags": []
   },
   "source": [
    "### Podcast Predicting\n",
    "In this project I need to predict the time of time (continues) Regression.\n",
    "1. Metrics I am gonna use is LightGBM and XGBoost.\n",
    "2. Metric: mean_squared_error & rmse\n",
    "3. Additional models: KFolds, RandomForest, ExtraTreesRegressor\n",
    "4. Encoding: Label Encoding  "
   ]
  },
  {
   "cell_type": "markdown",
   "id": "7ba5c1b8",
   "metadata": {
    "papermill": {
     "duration": 0.005782,
     "end_time": "2025-04-17T01:01:36.912451",
     "exception": false,
     "start_time": "2025-04-17T01:01:36.906669",
     "status": "completed"
    },
    "tags": []
   },
   "source": [
    "1. Importing the Libraries\n",
    "2. Checking the dataset and cleaning it\n",
    "3. Fill the empty lists with ffill\n",
    "4. Encoding\n",
    "5. Feature Importance\n",
    "6. Check for combination with heatmap and combine with PCA"
   ]
  },
  {
   "cell_type": "markdown",
   "id": "e80f534d",
   "metadata": {
    "papermill": {
     "duration": 0.004192,
     "end_time": "2025-04-17T01:01:36.921232",
     "exception": false,
     "start_time": "2025-04-17T01:01:36.917040",
     "status": "completed"
    },
    "tags": []
   },
   "source": [
    "# Importing the libraries"
   ]
  },
  {
   "cell_type": "code",
   "execution_count": 1,
   "id": "21a82f8c",
   "metadata": {
    "execution": {
     "iopub.execute_input": "2025-04-17T01:01:36.932216Z",
     "iopub.status.busy": "2025-04-17T01:01:36.931207Z",
     "iopub.status.idle": "2025-04-17T01:01:48.361573Z",
     "shell.execute_reply": "2025-04-17T01:01:48.360369Z"
    },
    "papermill": {
     "duration": 11.437937,
     "end_time": "2025-04-17T01:01:48.363641",
     "exception": false,
     "start_time": "2025-04-17T01:01:36.925704",
     "status": "completed"
    },
    "tags": []
   },
   "outputs": [],
   "source": [
    "import pandas as pd\n",
    "import numpy as no\n",
    "import matplotlib.pyplot as plt\n",
    "import seaborn as sns\n",
    "import lightgbm as lgb\n",
    "import xgboost as xgb\n",
    "import warnings\n",
    "warnings.filterwarnings('ignore')\n",
    "from sklearn.ensemble import RandomForestRegressor\n",
    "from sklearn.preprocessing import LabelEncoder\n",
    "from sklearn.model_selection import train_test_split, cross_val_score, KFold\n",
    "from sklearn.tree import DecisionTreeRegressor\n",
    "from sklearn.ensemble import RandomForestRegressor\n",
    "from sklearn.metrics import mean_absolute_error, mean_squared_error, r2_score\n",
    "from sklearn.preprocessing import StandardScaler\n",
    "from sklearn.pipeline import Pipeline"
   ]
  },
  {
   "cell_type": "code",
   "execution_count": 2,
   "id": "0db2d474",
   "metadata": {
    "execution": {
     "iopub.execute_input": "2025-04-17T01:01:48.375098Z",
     "iopub.status.busy": "2025-04-17T01:01:48.374297Z",
     "iopub.status.idle": "2025-04-17T01:01:48.382537Z",
     "shell.execute_reply": "2025-04-17T01:01:48.381504Z"
    },
    "papermill": {
     "duration": 0.015888,
     "end_time": "2025-04-17T01:01:48.384460",
     "exception": false,
     "start_time": "2025-04-17T01:01:48.368572",
     "status": "completed"
    },
    "tags": []
   },
   "outputs": [
    {
     "data": {
      "text/plain": [
       "['train-csv', 'playground-series-s5e4', 'test-csv']"
      ]
     },
     "execution_count": 2,
     "metadata": {},
     "output_type": "execute_result"
    }
   ],
   "source": [
    "import os\n",
    "os.listdir('/kaggle/input')"
   ]
  },
  {
   "cell_type": "code",
   "execution_count": 3,
   "id": "480e3eaf",
   "metadata": {
    "execution": {
     "iopub.execute_input": "2025-04-17T01:01:48.401290Z",
     "iopub.status.busy": "2025-04-17T01:01:48.400437Z",
     "iopub.status.idle": "2025-04-17T01:01:51.367933Z",
     "shell.execute_reply": "2025-04-17T01:01:51.366936Z"
    },
    "papermill": {
     "duration": 2.979515,
     "end_time": "2025-04-17T01:01:51.370028",
     "exception": false,
     "start_time": "2025-04-17T01:01:48.390513",
     "status": "completed"
    },
    "tags": []
   },
   "outputs": [],
   "source": [
    "df_train = pd.read_csv(\"/kaggle/input/playground-series-s5e4/train.csv\")\n",
    "df_test = pd.read_csv(\"/kaggle/input/playground-series-s5e4/test.csv\")"
   ]
  },
  {
   "cell_type": "code",
   "execution_count": 4,
   "id": "e112bae5",
   "metadata": {
    "execution": {
     "iopub.execute_input": "2025-04-17T01:01:51.381418Z",
     "iopub.status.busy": "2025-04-17T01:01:51.381030Z",
     "iopub.status.idle": "2025-04-17T01:01:51.414031Z",
     "shell.execute_reply": "2025-04-17T01:01:51.412960Z"
    },
    "papermill": {
     "duration": 0.040587,
     "end_time": "2025-04-17T01:01:51.415602",
     "exception": false,
     "start_time": "2025-04-17T01:01:51.375015",
     "status": "completed"
    },
    "tags": []
   },
   "outputs": [
    {
     "data": {
      "text/html": [
       "<div>\n",
       "<style scoped>\n",
       "    .dataframe tbody tr th:only-of-type {\n",
       "        vertical-align: middle;\n",
       "    }\n",
       "\n",
       "    .dataframe tbody tr th {\n",
       "        vertical-align: top;\n",
       "    }\n",
       "\n",
       "    .dataframe thead th {\n",
       "        text-align: right;\n",
       "    }\n",
       "</style>\n",
       "<table border=\"1\" class=\"dataframe\">\n",
       "  <thead>\n",
       "    <tr style=\"text-align: right;\">\n",
       "      <th></th>\n",
       "      <th>id</th>\n",
       "      <th>Podcast_Name</th>\n",
       "      <th>Episode_Title</th>\n",
       "      <th>Episode_Length_minutes</th>\n",
       "      <th>Genre</th>\n",
       "      <th>Host_Popularity_percentage</th>\n",
       "      <th>Publication_Day</th>\n",
       "      <th>Publication_Time</th>\n",
       "      <th>Guest_Popularity_percentage</th>\n",
       "      <th>Number_of_Ads</th>\n",
       "      <th>Episode_Sentiment</th>\n",
       "      <th>Listening_Time_minutes</th>\n",
       "    </tr>\n",
       "  </thead>\n",
       "  <tbody>\n",
       "    <tr>\n",
       "      <th>0</th>\n",
       "      <td>0</td>\n",
       "      <td>Mystery Matters</td>\n",
       "      <td>Episode 98</td>\n",
       "      <td>NaN</td>\n",
       "      <td>True Crime</td>\n",
       "      <td>74.81</td>\n",
       "      <td>Thursday</td>\n",
       "      <td>Night</td>\n",
       "      <td>NaN</td>\n",
       "      <td>0.0</td>\n",
       "      <td>Positive</td>\n",
       "      <td>31.41998</td>\n",
       "    </tr>\n",
       "    <tr>\n",
       "      <th>1</th>\n",
       "      <td>1</td>\n",
       "      <td>Joke Junction</td>\n",
       "      <td>Episode 26</td>\n",
       "      <td>119.80</td>\n",
       "      <td>Comedy</td>\n",
       "      <td>66.95</td>\n",
       "      <td>Saturday</td>\n",
       "      <td>Afternoon</td>\n",
       "      <td>75.95</td>\n",
       "      <td>2.0</td>\n",
       "      <td>Negative</td>\n",
       "      <td>88.01241</td>\n",
       "    </tr>\n",
       "    <tr>\n",
       "      <th>2</th>\n",
       "      <td>2</td>\n",
       "      <td>Study Sessions</td>\n",
       "      <td>Episode 16</td>\n",
       "      <td>73.90</td>\n",
       "      <td>Education</td>\n",
       "      <td>69.97</td>\n",
       "      <td>Tuesday</td>\n",
       "      <td>Evening</td>\n",
       "      <td>8.97</td>\n",
       "      <td>0.0</td>\n",
       "      <td>Negative</td>\n",
       "      <td>44.92531</td>\n",
       "    </tr>\n",
       "    <tr>\n",
       "      <th>3</th>\n",
       "      <td>3</td>\n",
       "      <td>Digital Digest</td>\n",
       "      <td>Episode 45</td>\n",
       "      <td>67.17</td>\n",
       "      <td>Technology</td>\n",
       "      <td>57.22</td>\n",
       "      <td>Monday</td>\n",
       "      <td>Morning</td>\n",
       "      <td>78.70</td>\n",
       "      <td>2.0</td>\n",
       "      <td>Positive</td>\n",
       "      <td>46.27824</td>\n",
       "    </tr>\n",
       "    <tr>\n",
       "      <th>4</th>\n",
       "      <td>4</td>\n",
       "      <td>Mind &amp; Body</td>\n",
       "      <td>Episode 86</td>\n",
       "      <td>110.51</td>\n",
       "      <td>Health</td>\n",
       "      <td>80.07</td>\n",
       "      <td>Monday</td>\n",
       "      <td>Afternoon</td>\n",
       "      <td>58.68</td>\n",
       "      <td>3.0</td>\n",
       "      <td>Neutral</td>\n",
       "      <td>75.61031</td>\n",
       "    </tr>\n",
       "  </tbody>\n",
       "</table>\n",
       "</div>"
      ],
      "text/plain": [
       "   id     Podcast_Name Episode_Title  Episode_Length_minutes       Genre  \\\n",
       "0   0  Mystery Matters    Episode 98                     NaN  True Crime   \n",
       "1   1    Joke Junction    Episode 26                  119.80      Comedy   \n",
       "2   2   Study Sessions    Episode 16                   73.90   Education   \n",
       "3   3   Digital Digest    Episode 45                   67.17  Technology   \n",
       "4   4      Mind & Body    Episode 86                  110.51      Health   \n",
       "\n",
       "   Host_Popularity_percentage Publication_Day Publication_Time  \\\n",
       "0                       74.81        Thursday            Night   \n",
       "1                       66.95        Saturday        Afternoon   \n",
       "2                       69.97         Tuesday          Evening   \n",
       "3                       57.22          Monday          Morning   \n",
       "4                       80.07          Monday        Afternoon   \n",
       "\n",
       "   Guest_Popularity_percentage  Number_of_Ads Episode_Sentiment  \\\n",
       "0                          NaN            0.0          Positive   \n",
       "1                        75.95            2.0          Negative   \n",
       "2                         8.97            0.0          Negative   \n",
       "3                        78.70            2.0          Positive   \n",
       "4                        58.68            3.0           Neutral   \n",
       "\n",
       "   Listening_Time_minutes  \n",
       "0                31.41998  \n",
       "1                88.01241  \n",
       "2                44.92531  \n",
       "3                46.27824  \n",
       "4                75.61031  "
      ]
     },
     "execution_count": 4,
     "metadata": {},
     "output_type": "execute_result"
    }
   ],
   "source": [
    "df_train.head()"
   ]
  },
  {
   "cell_type": "code",
   "execution_count": 5,
   "id": "687165aa",
   "metadata": {
    "execution": {
     "iopub.execute_input": "2025-04-17T01:01:51.427348Z",
     "iopub.status.busy": "2025-04-17T01:01:51.426363Z",
     "iopub.status.idle": "2025-04-17T01:01:51.495553Z",
     "shell.execute_reply": "2025-04-17T01:01:51.494479Z"
    },
    "papermill": {
     "duration": 0.076937,
     "end_time": "2025-04-17T01:01:51.497525",
     "exception": false,
     "start_time": "2025-04-17T01:01:51.420588",
     "status": "completed"
    },
    "tags": []
   },
   "outputs": [],
   "source": [
    "df_train['Episode_Length_minutes'].fillna(df_train[\"Episode_Length_minutes\"].median(), inplace=True)\n",
    "df_train['Guest_Popularity_percentage'].fillna(df_train[\"Guest_Popularity_percentage\"].median(), inplace=True)\n",
    "df_train['Number_of_Ads'].fillna(df_train[\"Number_of_Ads\"].median(), inplace=True)\n",
    "\n",
    "df_test['Episode_Length_minutes'].fillna(df_test[\"Episode_Length_minutes\"].median(), inplace=True)\n",
    "df_test['Guest_Popularity_percentage'].fillna(df_test[\"Guest_Popularity_percentage\"].median(), inplace=True)"
   ]
  },
  {
   "cell_type": "code",
   "execution_count": 6,
   "id": "bb444c41",
   "metadata": {
    "execution": {
     "iopub.execute_input": "2025-04-17T01:01:51.508355Z",
     "iopub.status.busy": "2025-04-17T01:01:51.508060Z",
     "iopub.status.idle": "2025-04-17T01:01:51.564773Z",
     "shell.execute_reply": "2025-04-17T01:01:51.563872Z"
    },
    "papermill": {
     "duration": 0.064069,
     "end_time": "2025-04-17T01:01:51.566436",
     "exception": false,
     "start_time": "2025-04-17T01:01:51.502367",
     "status": "completed"
    },
    "tags": []
   },
   "outputs": [
    {
     "data": {
      "text/plain": [
       "['Podcast_Name',\n",
       " 'Episode_Title',\n",
       " 'Genre',\n",
       " 'Publication_Day',\n",
       " 'Publication_Time',\n",
       " 'Episode_Sentiment']"
      ]
     },
     "execution_count": 6,
     "metadata": {},
     "output_type": "execute_result"
    }
   ],
   "source": [
    "categorical_features = df_train.select_dtypes(exclude=['number']).columns.tolist()\n",
    "categorical_features"
   ]
  },
  {
   "cell_type": "code",
   "execution_count": 7,
   "id": "edc3efd7",
   "metadata": {
    "execution": {
     "iopub.execute_input": "2025-04-17T01:01:51.578681Z",
     "iopub.status.busy": "2025-04-17T01:01:51.578343Z",
     "iopub.status.idle": "2025-04-17T01:01:52.567318Z",
     "shell.execute_reply": "2025-04-17T01:01:52.566090Z"
    },
    "papermill": {
     "duration": 0.997547,
     "end_time": "2025-04-17T01:01:52.569267",
     "exception": false,
     "start_time": "2025-04-17T01:01:51.571720",
     "status": "completed"
    },
    "tags": []
   },
   "outputs": [],
   "source": [
    "cat_col = ['Genre', 'Publication_Day', 'Publication_Time', 'Episode_Sentiment']\n",
    "dfs = pd.concat([df_train, df_test], sort=False).reset_index(drop=True)\n",
    "dfs = pd.get_dummies(dfs, columns=cat_col)"
   ]
  },
  {
   "cell_type": "code",
   "execution_count": 8,
   "id": "bb63d734",
   "metadata": {
    "execution": {
     "iopub.execute_input": "2025-04-17T01:01:52.580532Z",
     "iopub.status.busy": "2025-04-17T01:01:52.580195Z",
     "iopub.status.idle": "2025-04-17T01:01:53.394279Z",
     "shell.execute_reply": "2025-04-17T01:01:53.393088Z"
    },
    "papermill": {
     "duration": 0.821963,
     "end_time": "2025-04-17T01:01:53.396260",
     "exception": false,
     "start_time": "2025-04-17T01:01:52.574297",
     "status": "completed"
    },
    "tags": []
   },
   "outputs": [],
   "source": [
    "cat_col = ['Genre', 'Publication_Day', 'Publication_Time', 'Episode_Sentiment']\n",
    "dfs = pd.concat([df_train, df_test], sort=False).reset_index(drop=True)\n",
    "\n",
    "week_map = {\n",
    "    'Sunday': 1,\n",
    "    'Thursday': 2,\n",
    "    'Friday': 3,\n",
    "    'Saturday': 4,\n",
    "    'Wednesday': 5,\n",
    "    'Monday': 6,\n",
    "    'Tuesday': 7\n",
    "}\n",
    "dfs['Publication_Day'] = dfs['Publication_Day'].map(week_map)\n",
    "\n",
    "day_map = {\n",
    "    'Evening': 1,\n",
    "    'Morning': 2,\n",
    "    'Afternoon': 3,\n",
    "    'Night': 4,\n",
    "}\n",
    "dfs['Publication_Time'] = dfs['Publication_Time'].map(day_map)\n",
    "\n",
    "pos_map = {\n",
    "    'Negative': 1,\n",
    "    'Neutral': 2,\n",
    "    'Positive': 3\n",
    "}\n",
    "dfs['Episode_Sentiment'] = dfs['Episode_Sentiment'].map(pos_map)\n",
    "\n",
    "dfs = pd.get_dummies(dfs, columns=cat_col)"
   ]
  },
  {
   "cell_type": "code",
   "execution_count": 9,
   "id": "a8dbe867",
   "metadata": {
    "execution": {
     "iopub.execute_input": "2025-04-17T01:01:53.409678Z",
     "iopub.status.busy": "2025-04-17T01:01:53.409289Z",
     "iopub.status.idle": "2025-04-17T01:01:54.107390Z",
     "shell.execute_reply": "2025-04-17T01:01:54.106340Z"
    },
    "papermill": {
     "duration": 0.706704,
     "end_time": "2025-04-17T01:01:54.109128",
     "exception": false,
     "start_time": "2025-04-17T01:01:53.402424",
     "status": "completed"
    },
    "tags": []
   },
   "outputs": [],
   "source": [
    "dfs[\"Episode_Number\"] = dfs[\"Episode_Title\"].str.replace(\"Episode \", \"\", regex=True).astype(int)\n",
    "dfs = dfs.drop(columns=[\"Episode_Title\"])"
   ]
  },
  {
   "cell_type": "code",
   "execution_count": 10,
   "id": "0ab15e07",
   "metadata": {
    "execution": {
     "iopub.execute_input": "2025-04-17T01:01:54.120199Z",
     "iopub.status.busy": "2025-04-17T01:01:54.119779Z",
     "iopub.status.idle": "2025-04-17T01:01:54.623125Z",
     "shell.execute_reply": "2025-04-17T01:01:54.621964Z"
    },
    "papermill": {
     "duration": 0.51115,
     "end_time": "2025-04-17T01:01:54.625082",
     "exception": false,
     "start_time": "2025-04-17T01:01:54.113932",
     "status": "completed"
    },
    "tags": []
   },
   "outputs": [],
   "source": [
    "agg_stats = df_train.groupby('Podcast_Name')['Listening_Time_minutes'].agg(\n",
    "    Podcast_Median_ListenTime='median',\n",
    "    Podcast_Q25_ListenTime=lambda x: x.quantile(0.25),\n",
    "    Podcast_Q75_ListenTime=lambda x: x.quantile(0.75),\n",
    ").reset_index()\n",
    "\n",
    "dfs = dfs.merge(agg_stats, on='Podcast_Name', how='left')"
   ]
  },
  {
   "cell_type": "code",
   "execution_count": 11,
   "id": "a523f176",
   "metadata": {
    "execution": {
     "iopub.execute_input": "2025-04-17T01:01:54.636573Z",
     "iopub.status.busy": "2025-04-17T01:01:54.636231Z",
     "iopub.status.idle": "2025-04-17T01:02:51.943740Z",
     "shell.execute_reply": "2025-04-17T01:02:51.942519Z"
    },
    "papermill": {
     "duration": 57.315553,
     "end_time": "2025-04-17T01:02:51.945750",
     "exception": false,
     "start_time": "2025-04-17T01:01:54.630197",
     "status": "completed"
    },
    "tags": []
   },
   "outputs": [],
   "source": [
    "from sklearn.decomposition import PCA\n",
    "from gensim.models import Word2Vec"
   ]
  },
  {
   "cell_type": "code",
   "execution_count": 12,
   "id": "9a1992cc",
   "metadata": {
    "execution": {
     "iopub.execute_input": "2025-04-17T01:02:51.958612Z",
     "iopub.status.busy": "2025-04-17T01:02:51.957730Z",
     "iopub.status.idle": "2025-04-17T01:02:51.963102Z",
     "shell.execute_reply": "2025-04-17T01:02:51.962173Z"
    },
    "papermill": {
     "duration": 0.012916,
     "end_time": "2025-04-17T01:02:51.964573",
     "exception": false,
     "start_time": "2025-04-17T01:02:51.951657",
     "status": "completed"
    },
    "tags": []
   },
   "outputs": [],
   "source": [
    "import numpy as np"
   ]
  },
  {
   "cell_type": "code",
   "execution_count": 13,
   "id": "7d5c11bf",
   "metadata": {
    "execution": {
     "iopub.execute_input": "2025-04-17T01:02:51.976223Z",
     "iopub.status.busy": "2025-04-17T01:02:51.975140Z",
     "iopub.status.idle": "2025-04-17T01:04:12.668951Z",
     "shell.execute_reply": "2025-04-17T01:04:12.667890Z"
    },
    "papermill": {
     "duration": 80.701615,
     "end_time": "2025-04-17T01:04:12.670947",
     "exception": false,
     "start_time": "2025-04-17T01:02:51.969332",
     "status": "completed"
    },
    "tags": []
   },
   "outputs": [],
   "source": [
    "categorical_features = ['Podcast_Name']\n",
    "dfs['target_cat'] = dfs[categorical_features].astype(str).agg(' '.join, axis=1)\n",
    "\n",
    "sentences = [text.split() for text in dfs['target_cat']]\n",
    "word2vec_model = Word2Vec(sentences, vector_size=50, window=10, sg=1, min_count=1, workers=1)\n",
    "\n",
    "def get_avg_vector(sentence, model):\n",
    "    vectors = [model.wv[word] for word in sentence if word in model.wv]\n",
    "    if vectors:\n",
    "        return np.mean(vectors, axis=0)\n",
    "    else:\n",
    "        return np.zeros(model.vector_size)\n",
    "\n",
    "word2vec_vectors = [get_avg_vector(sentence, word2vec_model) for sentence in sentences]\n",
    "\n",
    "\n",
    "pca = PCA()\n",
    "word2vec_pca = pca.fit_transform(word2vec_vectors)\n",
    "cumulative_explained_variance = np.cumsum(pca.explained_variance_ratio_)\n",
    "n_components = np.argmax(cumulative_explained_variance >= 0.95) + 1\n",
    "pca = PCA(n_components=n_components)\n",
    "word2vec_pca_reduced = pca.fit_transform(word2vec_vectors)\n",
    "\n",
    "word2vec_df = pd.DataFrame(word2vec_pca_reduced, columns=[f'word2vec_pca_{i}' for i in range(word2vec_pca_reduced.shape[1])])\n",
    "word2vec_df = pd.DataFrame(word2vec_vectors, columns=[f'word2vec_{i}' for i in range(word2vec_model.vector_size)])\n",
    "\n",
    "dfs = pd.concat([dfs.reset_index(drop=True), word2vec_df], axis=1)\n",
    "\n",
    "dfs = dfs.drop(columns=['target_cat', 'Podcast_Name'])"
   ]
  },
  {
   "cell_type": "code",
   "execution_count": 14,
   "id": "f24d4844",
   "metadata": {
    "execution": {
     "iopub.execute_input": "2025-04-17T01:04:12.683387Z",
     "iopub.status.busy": "2025-04-17T01:04:12.683042Z",
     "iopub.status.idle": "2025-04-17T01:04:13.169466Z",
     "shell.execute_reply": "2025-04-17T01:04:13.168340Z"
    },
    "papermill": {
     "duration": 0.495101,
     "end_time": "2025-04-17T01:04:13.171524",
     "exception": false,
     "start_time": "2025-04-17T01:04:12.676423",
     "status": "completed"
    },
    "tags": []
   },
   "outputs": [],
   "source": [
    "dfs['Host_Guest_Avg_Popularity'] = (dfs['Host_Popularity_percentage'] + dfs['Guest_Popularity_percentage']) / 2\n",
    "\n",
    "dfs['Has_Ads'] = dfs['Number_of_Ads'].apply(lambda x: 1 if x > 0 else 0)\n",
    "\n",
    "dfs['Is_High_Host_Popularity'] = (dfs['Host_Popularity_percentage'] > 70).astype(int)\n",
    "dfs['Is_High_Guest_Popularity'] = (dfs['Guest_Popularity_percentage'] > 70).astype(int)\n",
    "dfs['Host_Guest_Popularity_Gap'] = dfs['Host_Popularity_percentage'] - dfs['Guest_Popularity_percentage']\n",
    "dfs['Ad_Density'] = dfs['Number_of_Ads'] / dfs['Episode_Length_minutes']\n",
    "dfs['Ad_Density'].replace([np.inf, -np.inf], np.nan, inplace=True)\n",
    "dfs['Is_Long_Episode'] = (dfs['Episode_Length_minutes'] > 60).astype(int)"
   ]
  },
  {
   "cell_type": "code",
   "execution_count": 15,
   "id": "a9fc0a83",
   "metadata": {
    "execution": {
     "iopub.execute_input": "2025-04-17T01:04:13.183516Z",
     "iopub.status.busy": "2025-04-17T01:04:13.183144Z",
     "iopub.status.idle": "2025-04-17T01:04:13.515736Z",
     "shell.execute_reply": "2025-04-17T01:04:13.514695Z"
    },
    "papermill": {
     "duration": 0.340727,
     "end_time": "2025-04-17T01:04:13.517629",
     "exception": false,
     "start_time": "2025-04-17T01:04:13.176902",
     "status": "completed"
    },
    "tags": []
   },
   "outputs": [],
   "source": [
    "df_train = dfs[~dfs[\"Listening_Time_minutes\"].isnull()]\n",
    "df_test = dfs[dfs[\"Listening_Time_minutes\"].isnull()]"
   ]
  },
  {
   "cell_type": "code",
   "execution_count": 16,
   "id": "17e9dac0",
   "metadata": {
    "execution": {
     "iopub.execute_input": "2025-04-17T01:04:13.528680Z",
     "iopub.status.busy": "2025-04-17T01:04:13.528312Z",
     "iopub.status.idle": "2025-04-17T01:04:13.697551Z",
     "shell.execute_reply": "2025-04-17T01:04:13.696445Z"
    },
    "papermill": {
     "duration": 0.176791,
     "end_time": "2025-04-17T01:04:13.699320",
     "exception": false,
     "start_time": "2025-04-17T01:04:13.522529",
     "status": "completed"
    },
    "tags": []
   },
   "outputs": [],
   "source": [
    "X = df_train.drop(columns=[\"id\",\"Listening_Time_minutes\"])\n",
    "y = df_train[\"Listening_Time_minutes\"]"
   ]
  },
  {
   "cell_type": "code",
   "execution_count": 17,
   "id": "8b14282c",
   "metadata": {
    "execution": {
     "iopub.execute_input": "2025-04-17T01:04:13.710894Z",
     "iopub.status.busy": "2025-04-17T01:04:13.710533Z",
     "iopub.status.idle": "2025-04-17T01:04:13.715557Z",
     "shell.execute_reply": "2025-04-17T01:04:13.714402Z"
    },
    "papermill": {
     "duration": 0.01285,
     "end_time": "2025-04-17T01:04:13.717140",
     "exception": false,
     "start_time": "2025-04-17T01:04:13.704290",
     "status": "completed"
    },
    "tags": []
   },
   "outputs": [],
   "source": [
    "import optuna\n",
    "from sklearn.model_selection import train_test_split"
   ]
  },
  {
   "cell_type": "code",
   "execution_count": 18,
   "id": "34c84d4f",
   "metadata": {
    "execution": {
     "iopub.execute_input": "2025-04-17T01:04:13.728290Z",
     "iopub.status.busy": "2025-04-17T01:04:13.727875Z",
     "iopub.status.idle": "2025-04-17T01:04:14.534421Z",
     "shell.execute_reply": "2025-04-17T01:04:14.533237Z"
    },
    "papermill": {
     "duration": 0.814189,
     "end_time": "2025-04-17T01:04:14.536301",
     "exception": false,
     "start_time": "2025-04-17T01:04:13.722112",
     "status": "completed"
    },
    "tags": []
   },
   "outputs": [],
   "source": [
    "X_train, X_val, y_train, y_val = train_test_split(X, y, test_size=0.2, random_state=911, shuffle = True)"
   ]
  },
  {
   "cell_type": "code",
   "execution_count": 19,
   "id": "ceb6305b",
   "metadata": {
    "execution": {
     "iopub.execute_input": "2025-04-17T01:04:14.547452Z",
     "iopub.status.busy": "2025-04-17T01:04:14.547095Z",
     "iopub.status.idle": "2025-04-17T01:04:14.556172Z",
     "shell.execute_reply": "2025-04-17T01:04:14.555188Z"
    },
    "papermill": {
     "duration": 0.016556,
     "end_time": "2025-04-17T01:04:14.557802",
     "exception": false,
     "start_time": "2025-04-17T01:04:14.541246",
     "status": "completed"
    },
    "tags": []
   },
   "outputs": [],
   "source": [
    "def objective(trial):\n",
    "    param = {\n",
    "        \"objective\": \"reg:squarederror\",\n",
    "        \"eval_metric\": \"rmse\",\n",
    "        \"learning_rate\": trial.suggest_float(\"learning_rate\", 0.05, 0.3, step=0.01),\n",
    "        \"max_depth\": trial.suggest_int(\"max_depth\", 5, 30),\n",
    "        \"subsample\": trial.suggest_float(\"subsample\", 0.6, 1.0, step=0.05),\n",
    "        \"colsample_bytree\": trial.suggest_float(\"colsample_bytree\", 0.6, 1.0, step=0.05),\n",
    "        \"max_bin\": trial.suggest_int(\"max_bin\", 256, 1024, step=128),\n",
    "        \"min_child_weight\": trial.suggest_int(\"min_child_weight\", 1, 10),\n",
    "        \"gamma\": trial.suggest_float(\"gamma\", 0, 5),\n",
    "        \"lambda\": trial.suggest_float(\"lambda\", 1e-3, 10.0, log=True),\n",
    "        \"alpha\": trial.suggest_float(\"alpha\", 1e-3, 10.0, log=True),\n",
    "        \"random_state\": 911\n",
    "    }\n",
    "\n",
    "    # The following lines were incorrectly indented and are now moved inside the function\n",
    "    dtrain = xgb.DMatrix(X_train, label=y_train)\n",
    "    dval = xgb.DMatrix(X_val, label=y_val)\n",
    "\n",
    "    model = xgb.train(\n",
    "        params=param,\n",
    "        dtrain=dtrain,\n",
    "        num_boost_round=100,\n",
    "        evals=[(dtrain, \"train\"), (dval, \"valid\")],\n",
    "        early_stopping_rounds=50,\n",
    "        verbose_eval=0\n",
    "    )\n",
    "\n",
    "    y_pred = model.predict(dval, iteration_range=(0, model.best_iteration))\n",
    "    rmse = np.sqrt(mean_squared_error(y_val, y_pred))\n",
    "    return rmse"
   ]
  },
  {
   "cell_type": "code",
   "execution_count": 20,
   "id": "ff06207f",
   "metadata": {
    "execution": {
     "iopub.execute_input": "2025-04-17T01:04:14.569375Z",
     "iopub.status.busy": "2025-04-17T01:04:14.569030Z",
     "iopub.status.idle": "2025-04-17T01:08:11.739292Z",
     "shell.execute_reply": "2025-04-17T01:08:11.738147Z"
    },
    "papermill": {
     "duration": 237.177969,
     "end_time": "2025-04-17T01:08:11.740898",
     "exception": false,
     "start_time": "2025-04-17T01:04:14.562929",
     "status": "completed"
    },
    "tags": []
   },
   "outputs": [
    {
     "name": "stderr",
     "output_type": "stream",
     "text": [
      "[I 2025-04-17 01:04:14,571] A new study created in memory with name: no-name-414c09ca-2857-4fb3-b37d-c1551dcba6a4\n",
      "[I 2025-04-17 01:04:44,878] Trial 0 finished with value: 13.044506703381575 and parameters: {'learning_rate': 0.12000000000000001, 'max_depth': 9, 'subsample': 0.8, 'colsample_bytree': 0.75, 'max_bin': 896, 'min_child_weight': 6, 'gamma': 1.8412661015735239, 'lambda': 0.0011115420299260812, 'alpha': 0.03148869877520974}. Best is trial 0 with value: 13.044506703381575.\n",
      "[I 2025-04-17 01:06:57,580] Trial 1 finished with value: 13.9107595196823 and parameters: {'learning_rate': 0.3, 'max_depth': 29, 'subsample': 0.6, 'colsample_bytree': 0.9, 'max_bin': 640, 'min_child_weight': 10, 'gamma': 0.5235922381104846, 'lambda': 0.04360687596450015, 'alpha': 0.9142077474487205}. Best is trial 0 with value: 13.044506703381575.\n",
      "[I 2025-04-17 01:07:21,726] Trial 2 finished with value: 13.122772285934685 and parameters: {'learning_rate': 0.29, 'max_depth': 10, 'subsample': 0.75, 'colsample_bytree': 0.95, 'max_bin': 384, 'min_child_weight': 4, 'gamma': 2.715525526532705, 'lambda': 0.42481906927181945, 'alpha': 0.034594802813478674}. Best is trial 0 with value: 13.044506703381575.\n",
      "[I 2025-04-17 01:07:45,397] Trial 3 finished with value: 13.134091123577328 and parameters: {'learning_rate': 0.14, 'max_depth': 6, 'subsample': 0.8, 'colsample_bytree': 0.6, 'max_bin': 256, 'min_child_weight': 4, 'gamma': 3.0328698720216436, 'lambda': 0.001948855883327511, 'alpha': 0.10926584148083184}. Best is trial 0 with value: 13.044506703381575.\n",
      "[I 2025-04-17 01:08:11,733] Trial 4 finished with value: 13.106750910742287 and parameters: {'learning_rate': 0.21000000000000002, 'max_depth': 7, 'subsample': 0.65, 'colsample_bytree': 1.0, 'max_bin': 640, 'min_child_weight': 8, 'gamma': 0.19589372983504882, 'lambda': 1.2819258425560658, 'alpha': 0.004382336445655435}. Best is trial 0 with value: 13.044506703381575.\n"
     ]
    },
    {
     "name": "stdout",
     "output_type": "stream",
     "text": [
      "Best hyperparameters: {'learning_rate': 0.12000000000000001, 'max_depth': 9, 'subsample': 0.8, 'colsample_bytree': 0.75, 'max_bin': 896, 'min_child_weight': 6, 'gamma': 1.8412661015735239, 'lambda': 0.0011115420299260812, 'alpha': 0.03148869877520974}\n",
      "Best RMSE score: 13.044506703381575\n"
     ]
    }
   ],
   "source": [
    "study = optuna.create_study(direction=\"minimize\")\n",
    "study.optimize(objective, n_trials=5)\n",
    "\n",
    "print(\"Best hyperparameters:\", study.best_params)\n",
    "print(\"Best RMSE score:\", study.best_value)"
   ]
  },
  {
   "cell_type": "code",
   "execution_count": 21,
   "id": "47f0fd38",
   "metadata": {
    "execution": {
     "iopub.execute_input": "2025-04-17T01:08:11.753812Z",
     "iopub.status.busy": "2025-04-17T01:08:11.752821Z",
     "iopub.status.idle": "2025-04-17T01:08:49.693263Z",
     "shell.execute_reply": "2025-04-17T01:08:49.692028Z"
    },
    "papermill": {
     "duration": 37.949129,
     "end_time": "2025-04-17T01:08:49.695394",
     "exception": false,
     "start_time": "2025-04-17T01:08:11.746265",
     "status": "completed"
    },
    "tags": []
   },
   "outputs": [],
   "source": [
    "best_params = study.best_params\n",
    "dtrain_full = xgb.DMatrix(X, label=y) \n",
    "\n",
    "final_model = xgb.train(\n",
    "    params=best_params,\n",
    "    dtrain=dtrain_full,\n",
    "    num_boost_round=100,\n",
    "    verbose_eval=0\n",
    ")\n",
    "\n",
    "dtest = xgb.DMatrix(df_test.drop(columns=[\"id\", \"Listening_Time_minutes\"])) \n",
    "predictions = final_model.predict(dtest)\n",
    "\n",
    "submission_df = pd.DataFrame({'id': df_test['id'], 'Listening_Time_minutes': predictions})\n",
    "submission_df.to_csv('submission.csv', index=False)"
   ]
  },
  {
   "cell_type": "code",
   "execution_count": 22,
   "id": "c0483a08",
   "metadata": {
    "execution": {
     "iopub.execute_input": "2025-04-17T01:08:49.708348Z",
     "iopub.status.busy": "2025-04-17T01:08:49.707915Z",
     "iopub.status.idle": "2025-04-17T01:08:49.719218Z",
     "shell.execute_reply": "2025-04-17T01:08:49.718139Z"
    },
    "papermill": {
     "duration": 0.019716,
     "end_time": "2025-04-17T01:08:49.721012",
     "exception": false,
     "start_time": "2025-04-17T01:08:49.701296",
     "status": "completed"
    },
    "tags": []
   },
   "outputs": [
    {
     "data": {
      "text/html": [
       "<div>\n",
       "<style scoped>\n",
       "    .dataframe tbody tr th:only-of-type {\n",
       "        vertical-align: middle;\n",
       "    }\n",
       "\n",
       "    .dataframe tbody tr th {\n",
       "        vertical-align: top;\n",
       "    }\n",
       "\n",
       "    .dataframe thead th {\n",
       "        text-align: right;\n",
       "    }\n",
       "</style>\n",
       "<table border=\"1\" class=\"dataframe\">\n",
       "  <thead>\n",
       "    <tr style=\"text-align: right;\">\n",
       "      <th></th>\n",
       "      <th>id</th>\n",
       "      <th>Listening_Time_minutes</th>\n",
       "    </tr>\n",
       "  </thead>\n",
       "  <tbody>\n",
       "    <tr>\n",
       "      <th>750000</th>\n",
       "      <td>750000</td>\n",
       "      <td>54.237244</td>\n",
       "    </tr>\n",
       "    <tr>\n",
       "      <th>750001</th>\n",
       "      <td>750001</td>\n",
       "      <td>18.416592</td>\n",
       "    </tr>\n",
       "    <tr>\n",
       "      <th>750002</th>\n",
       "      <td>750002</td>\n",
       "      <td>47.154533</td>\n",
       "    </tr>\n",
       "    <tr>\n",
       "      <th>750003</th>\n",
       "      <td>750003</td>\n",
       "      <td>80.660782</td>\n",
       "    </tr>\n",
       "    <tr>\n",
       "      <th>750004</th>\n",
       "      <td>750004</td>\n",
       "      <td>48.795441</td>\n",
       "    </tr>\n",
       "    <tr>\n",
       "      <th>...</th>\n",
       "      <td>...</td>\n",
       "      <td>...</td>\n",
       "    </tr>\n",
       "    <tr>\n",
       "      <th>999995</th>\n",
       "      <td>999995</td>\n",
       "      <td>12.164994</td>\n",
       "    </tr>\n",
       "    <tr>\n",
       "      <th>999996</th>\n",
       "      <td>999996</td>\n",
       "      <td>58.593014</td>\n",
       "    </tr>\n",
       "    <tr>\n",
       "      <th>999997</th>\n",
       "      <td>999997</td>\n",
       "      <td>6.314389</td>\n",
       "    </tr>\n",
       "    <tr>\n",
       "      <th>999998</th>\n",
       "      <td>999998</td>\n",
       "      <td>73.660294</td>\n",
       "    </tr>\n",
       "    <tr>\n",
       "      <th>999999</th>\n",
       "      <td>999999</td>\n",
       "      <td>56.393127</td>\n",
       "    </tr>\n",
       "  </tbody>\n",
       "</table>\n",
       "<p>250000 rows × 2 columns</p>\n",
       "</div>"
      ],
      "text/plain": [
       "            id  Listening_Time_minutes\n",
       "750000  750000               54.237244\n",
       "750001  750001               18.416592\n",
       "750002  750002               47.154533\n",
       "750003  750003               80.660782\n",
       "750004  750004               48.795441\n",
       "...        ...                     ...\n",
       "999995  999995               12.164994\n",
       "999996  999996               58.593014\n",
       "999997  999997                6.314389\n",
       "999998  999998               73.660294\n",
       "999999  999999               56.393127\n",
       "\n",
       "[250000 rows x 2 columns]"
      ]
     },
     "execution_count": 22,
     "metadata": {},
     "output_type": "execute_result"
    }
   ],
   "source": [
    "submission_df"
   ]
  }
 ],
 "metadata": {
  "kaggle": {
   "accelerator": "none",
   "dataSources": [
    {
     "databundleVersionId": 11351736,
     "sourceId": 91715,
     "sourceType": "competition"
    },
    {
     "datasetId": 7167124,
     "sourceId": 11441234,
     "sourceType": "datasetVersion"
    },
    {
     "datasetId": 7167126,
     "sourceId": 11441238,
     "sourceType": "datasetVersion"
    }
   ],
   "dockerImageVersionId": 31012,
   "isGpuEnabled": false,
   "isInternetEnabled": false,
   "language": "python",
   "sourceType": "notebook"
  },
  "kernelspec": {
   "display_name": "Python 3",
   "language": "python",
   "name": "python3"
  },
  "language_info": {
   "codemirror_mode": {
    "name": "ipython",
    "version": 3
   },
   "file_extension": ".py",
   "mimetype": "text/x-python",
   "name": "python",
   "nbconvert_exporter": "python",
   "pygments_lexer": "ipython3",
   "version": "3.11.11"
  },
  "papermill": {
   "default_parameters": {},
   "duration": 441.677301,
   "end_time": "2025-04-17T01:08:53.390829",
   "environment_variables": {},
   "exception": null,
   "input_path": "__notebook__.ipynb",
   "output_path": "__notebook__.ipynb",
   "parameters": {},
   "start_time": "2025-04-17T01:01:31.713528",
   "version": "2.6.0"
  }
 },
 "nbformat": 4,
 "nbformat_minor": 5
}
